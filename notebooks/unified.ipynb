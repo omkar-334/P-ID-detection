{
 "cells": [
  {
   "cell_type": "code",
   "execution_count": 1,
   "id": "10cbb0a3-d28a-4707-9ac0-97ff6aaf0531",
   "metadata": {},
   "outputs": [],
   "source": [
    "import warnings\n",
    "\n",
    "import torch\n",
    "\n",
    "from dataset import PIDJSONDataset, get_dataloaders\n",
    "from trainer import Trainer\n",
    "from utils import plot_training_curves\n",
    "from wrapper import Wrapper\n",
    "\n",
    "warnings.filterwarnings(\"ignore\")"
   ]
  },
  {
   "cell_type": "code",
   "execution_count": 2,
   "id": "6cf2ce68-6fcb-4db4-b933-74e4cb7f78ff",
   "metadata": {},
   "outputs": [],
   "source": [
    "device = (\n",
    "    torch.device(\"cuda\")\n",
    "    if torch.cuda.is_available()\n",
    "    else torch.device(\"mps\")\n",
    "    if torch.backends.mps.is_available()\n",
    "    else torch.device(\"cpu\")\n",
    ")\n",
    "IMAGES_DIR = \"dataset/images\"\n",
    "ANN_DIR = \"dataset/annotations\"\n",
    "# ---------------- Configuration ----------------\n",
    "config = {\n",
    "    \"batch_size\": 6,\n",
    "    \"epochs\": 10,\n",
    "    \"learning_rate\": 0.001,\n",
    "    \"train_split\": 0.7,\n",
    "    \"val_split\": 0.2,\n",
    "    \"test_split\": 0.1,\n",
    "    \"iou_threshold\": 0.5,\n",
    "    \"confidence_threshold\": 0.5,\n",
    "}"
   ]
  },
  {
   "cell_type": "code",
   "execution_count": 3,
   "id": "608a15b6-fdab-4311-a839-dc9dc7d31919",
   "metadata": {},
   "outputs": [
    {
     "name": "stdout",
     "output_type": "stream",
     "text": [
      "Found 500 annotation files\n",
      "Loaded 500 diagrams\n",
      "Mode: unified\n",
      "Classes: ['background', 'symbol', 'word', 'line'] (4)\n",
      "Splits - Train: 350, Val: 100, Test: 50\n"
     ]
    }
   ],
   "source": [
    "train_loader, val_loader, test_loader = get_dataloaders(\n",
    "    batch_size=config[\"batch_size\"],\n",
    "    train_split=config[\"train_split\"],\n",
    "    val_split=config[\"val_split\"],\n",
    "    num_workers=4,\n",
    "    images_dir=IMAGES_DIR,\n",
    "    ann_dir=ANN_DIR,\n",
    "    symbol_mode='unified',\n",
    ")"
   ]
  },
  {
   "cell_type": "code",
   "execution_count": 4,
   "id": "50bd7878-4258-42d7-91a9-c4efcf339d14",
   "metadata": {},
   "outputs": [
    {
     "name": "stdout",
     "output_type": "stream",
     "text": [
      "Found 500 annotation files\n",
      "Loaded 500 diagrams\n",
      "Mode: unified\n",
      "Classes: ['background', 'symbol', 'word', 'line'] (4)\n"
     ]
    }
   ],
   "source": [
    "dataset = PIDJSONDataset(\n",
    "    images_dir=IMAGES_DIR,\n",
    "    ann_dir=ANN_DIR,\n",
    "    symbol_mode='unified'\n",
    ")\n",
    "num_classes = len(dataset.class_names)  # background + word + line + symbols\n"
   ]
  },
  {
   "cell_type": "code",
   "execution_count": 5,
   "id": "01586f86-32a4-4ada-8c7f-0c31b4348f65",
   "metadata": {},
   "outputs": [],
   "source": [
    "# Create model wrapper\n",
    "wrapper = Wrapper(device=device, num_classes=num_classes)\n",
    "\n",
    "# ---------------- Trainer ----------------\n",
    "trainer = Trainer(wrapper, device=device, lr=config[\"learning_rate\"])"
   ]
  },
  {
   "cell_type": "code",
   "execution_count": 6,
   "id": "cb2cef97-73f5-4b94-a324-ecafd78bc019",
   "metadata": {},
   "outputs": [
    {
     "name": "stdout",
     "output_type": "stream",
     "text": [
      "Training on cuda for 10 epochs\n",
      "\n",
      "Epoch 1/10\n"
     ]
    },
    {
     "name": "stderr",
     "output_type": "stream",
     "text": [
      "Epoch 1: 100%|██████████| 59/59 [01:07<00:00,  1.14s/it, loss=1.5897]\n"
     ]
    },
    {
     "name": "stdout",
     "output_type": "stream",
     "text": [
      "Model saved to: models/best_model.pth\n",
      "Saved new best model with val loss 1.5203\n",
      "Train Loss: 2.0413, Val Loss: 1.5203\n",
      "\n",
      "Epoch 2/10\n"
     ]
    },
    {
     "name": "stderr",
     "output_type": "stream",
     "text": [
      "Epoch 2: 100%|██████████| 59/59 [01:03<00:00,  1.08s/it, loss=1.3181]\n"
     ]
    },
    {
     "name": "stdout",
     "output_type": "stream",
     "text": [
      "Model saved to: models/best_model.pth\n",
      "Saved new best model with val loss 1.3936\n",
      "Train Loss: 1.4850, Val Loss: 1.3936\n",
      "\n",
      "Epoch 3/10\n"
     ]
    },
    {
     "name": "stderr",
     "output_type": "stream",
     "text": [
      "Epoch 3: 100%|██████████| 59/59 [01:02<00:00,  1.07s/it, loss=1.3136]\n"
     ]
    },
    {
     "name": "stdout",
     "output_type": "stream",
     "text": [
      "Model saved to: models/best_model.pth\n",
      "Saved new best model with val loss 1.2503\n",
      "Train Loss: 1.3230, Val Loss: 1.2503\n",
      "\n",
      "Epoch 4/10\n"
     ]
    },
    {
     "name": "stderr",
     "output_type": "stream",
     "text": [
      "Epoch 4: 100%|██████████| 59/59 [01:03<00:00,  1.07s/it, loss=1.2739]\n"
     ]
    },
    {
     "name": "stdout",
     "output_type": "stream",
     "text": [
      "Model saved to: models/best_model.pth\n",
      "Saved new best model with val loss 1.2308\n",
      "Train Loss: 1.2341, Val Loss: 1.2308\n",
      "\n",
      "Epoch 5/10\n"
     ]
    },
    {
     "name": "stderr",
     "output_type": "stream",
     "text": [
      "Epoch 5: 100%|██████████| 59/59 [01:08<00:00,  1.17s/it, loss=1.1624]\n"
     ]
    },
    {
     "name": "stdout",
     "output_type": "stream",
     "text": [
      "Model saved to: models/best_model.pth\n",
      "Saved new best model with val loss 1.2213\n",
      "Train Loss: 1.2264, Val Loss: 1.2213\n",
      "\n",
      "Epoch 6/10\n"
     ]
    },
    {
     "name": "stderr",
     "output_type": "stream",
     "text": [
      "Epoch 6: 100%|██████████| 59/59 [01:05<00:00,  1.11s/it, loss=1.2467]\n"
     ]
    },
    {
     "name": "stdout",
     "output_type": "stream",
     "text": [
      "Model saved to: models/best_model.pth\n",
      "Saved new best model with val loss 1.2135\n",
      "Train Loss: 1.2238, Val Loss: 1.2135\n",
      "\n",
      "Epoch 7/10\n"
     ]
    },
    {
     "name": "stderr",
     "output_type": "stream",
     "text": [
      "Epoch 7: 100%|██████████| 59/59 [01:10<00:00,  1.20s/it, loss=1.2263]\n"
     ]
    },
    {
     "name": "stdout",
     "output_type": "stream",
     "text": [
      "Model saved to: models/best_model.pth\n",
      "Saved new best model with val loss 1.2102\n",
      "Train Loss: 1.2176, Val Loss: 1.2102\n",
      "\n",
      "Epoch 8/10\n"
     ]
    },
    {
     "name": "stderr",
     "output_type": "stream",
     "text": [
      "Epoch 8: 100%|██████████| 59/59 [01:04<00:00,  1.10s/it, loss=1.1867]\n"
     ]
    },
    {
     "name": "stdout",
     "output_type": "stream",
     "text": [
      "Train Loss: 1.2173, Val Loss: 1.2166\n",
      "\n",
      "Epoch 9/10\n"
     ]
    },
    {
     "name": "stderr",
     "output_type": "stream",
     "text": [
      "Epoch 9: 100%|██████████| 59/59 [01:06<00:00,  1.12s/it, loss=1.2862]\n"
     ]
    },
    {
     "name": "stdout",
     "output_type": "stream",
     "text": [
      "Model saved to: models/best_model.pth\n",
      "Saved new best model with val loss 1.1909\n",
      "Train Loss: 1.2091, Val Loss: 1.1909\n",
      "\n",
      "Epoch 10/10\n"
     ]
    },
    {
     "name": "stderr",
     "output_type": "stream",
     "text": [
      "Epoch 10: 100%|██████████| 59/59 [01:10<00:00,  1.19s/it, loss=1.3296]\n"
     ]
    },
    {
     "name": "stdout",
     "output_type": "stream",
     "text": [
      "Train Loss: 1.2141, Val Loss: 1.2228\n"
     ]
    }
   ],
   "source": [
    "trainer.train(train_loader, val_loader=val_loader, epochs=config[\"epochs\"])"
   ]
  },
  {
   "cell_type": "code",
   "execution_count": 7,
   "id": "613c75fb-df43-46fb-a65e-8f5f896b903f",
   "metadata": {},
   "outputs": [
    {
     "name": "stdout",
     "output_type": "stream",
     "text": [
      "Evaluating model...\n"
     ]
    },
    {
     "name": "stderr",
     "output_type": "stream",
     "text": [
      "Evaluating: 100%|██████████| 9/9 [00:12<00:00,  1.44s/it]\n"
     ]
    },
    {
     "name": "stdout",
     "output_type": "stream",
     "text": [
      "symbol - Precision: 0.927, Recall: 0.225, F1: 0.362\n",
      "word - Precision: 0.819, Recall: 0.109, F1: 0.193\n",
      "line - Precision: 0.000, Recall: 0.000, F1: 0.000\n",
      "\n",
      "=== FINAL RESULTS ===\n",
      "mAP (mean Average Precision): 0.5821\n",
      "Mean IoU: 0.6696\n",
      "Mean Precision: 0.5821\n",
      "Mean Recall: 0.1114\n",
      "Mean F1-Score: 0.1849\n",
      "Average Inference Time: 0.0705 sec/image\n"
     ]
    }
   ],
   "source": [
    "metrics = trainer.evaluate(\n",
    "    test_loader,\n",
    "    iou_threshold=config[\"iou_threshold\"],\n",
    "    confidence_threshold=config[\"confidence_threshold\"],\n",
    "    class_names=dataset.class_names,\n",
    ")\n",
    "\n",
    "print(\"\\n=== FINAL RESULTS ===\")\n",
    "print(f\"mAP (mean Average Precision): {metrics['mAP']:.4f}\")\n",
    "print(f\"Mean IoU: {metrics['mean_iou']:.4f}\")\n",
    "print(f\"Mean Precision: {metrics['mean_precision']:.4f}\")\n",
    "print(f\"Mean Recall: {metrics['mean_recall']:.4f}\")\n",
    "print(f\"Mean F1-Score: {metrics['mean_f1']:.4f}\")\n",
    "print(f\"Average Inference Time: {metrics['avg_inference_time']:.4f} sec/image\")"
   ]
  },
  {
   "cell_type": "code",
   "execution_count": 10,
   "id": "3f029ba6-3cf7-4b55-aa80-91e10f7a34c4",
   "metadata": {},
   "outputs": [
    {
     "data": {
      "image/png": "[encoded data removed]",
      "text/plain": [
       "<Figure size 1200x400 with 2 Axes>"
      ]
     },
     "metadata": {},
     "output_type": "display_data"
    }
   ],
   "source": [
    "plot_training_curves(trainer, save_path =\"models/training_curves.png\")"
   ]
  },
  {
   "cell_type": "code",
   "execution_count": 8,
   "id": "c812e5e9-7511-412b-9005-527682b555aa",
   "metadata": {},
   "outputs": [
    {
     "name": "stdout",
     "output_type": "stream",
     "text": [
      "Model saved to: models/final_model.pth\n",
      "\n",
      "Model saved as 'models/final_model.pth'\n",
      "Training curves saved as 'models/training_curves.png'\n"
     ]
    }
   ],
   "source": [
    "model_path = wrapper.save_model(\n",
    "    config=config, class_names=dataset.class_names, metrics=metrics, name=\"final_model\"\n",
    ")\n",
    "\n",
    "print(f\"\\nModel saved as '{model_path}'\")\n",
    "print(\"Training curves saved as 'models/training_curves.png'\")"
   ]
  }
 ],
 "metadata": {
  "kernelspec": {
   "display_name": "Python3 (ipykernel)",
   "language": "python",
   "name": "python3"
  },
  "language_info": {
   "codemirror_mode": {
    "name": "ipython",
    "version": 3
   },
   "file_extension": ".py",
   "mimetype": "text/x-python",
   "name": "python",
   "nbconvert_exporter": "python",
   "pygments_lexer": "ipython3",
   "version": "3.12.11"
  }
 },
 "nbformat": 4,
 "nbformat_minor": 5
}
